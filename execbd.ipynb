{
 "cells": [
  {
   "cell_type": "code",
   "execution_count": 9,
   "id": "5e04bc64-aee3-4a61-aaab-c30dc46832d7",
   "metadata": {},
   "outputs": [],
   "source": [
    "import sqlite3"
   ]
  },
  {
   "cell_type": "code",
   "execution_count": 10,
   "id": "878a93ec-9d48-461a-8d50-a7f1d3553461",
   "metadata": {},
   "outputs": [],
   "source": [
    "conn = sqlite3.connect('empresa.db')\n",
    "cursor = conn.cursor()\n"
   ]
  },
  {
   "cell_type": "code",
   "execution_count": 3,
   "id": "9de4cd78-079b-4fda-87f5-e4d75d48b7a5",
   "metadata": {},
   "outputs": [
    {
     "data": {
      "text/plain": [
       "<sqlite3.Cursor at 0x1e9e35111c0>"
      ]
     },
     "execution_count": 3,
     "metadata": {},
     "output_type": "execute_result"
    }
   ],
   "source": [
    "cursor.execute('''CREATE TABLE IF NOT EXISTS Funcionarios (\n",
    "                    Codigo INTEGER PRIMARY KEY,\n",
    "                    PrimeiroNome TEXT,\n",
    "                    SegundoNome TEXT,\n",
    "                    UltimoNome TEXT,\n",
    "                    DataNasci DATE,\n",
    "                    CPF TEXT,\n",
    "                    RG TEXT,\n",
    "                    Endereço TEXT,\n",
    "                    CEP TEXT,\n",
    "                    Cidade TEXT,\n",
    "                    Fone TEXT,\n",
    "                    CodigoDepartamento INTEGER,\n",
    "                    Funcao TEXT,\n",
    "                    Salario REAL\n",
    "                )''')\n"
   ]
  },
  {
   "cell_type": "code",
   "execution_count": 4,
   "id": "905e275c-65a4-4386-a35b-77db9506f016",
   "metadata": {},
   "outputs": [
    {
     "data": {
      "text/plain": [
       "<sqlite3.Cursor at 0x1e9e35111c0>"
      ]
     },
     "execution_count": 4,
     "metadata": {},
     "output_type": "execute_result"
    }
   ],
   "source": [
    "cursor.execute('''CREATE TABLE IF NOT EXISTS Departamentos (\n",
    "                    Codigo INTEGER PRIMARY KEY,\n",
    "                    Nome TEXT,\n",
    "                    Localização TEXT,\n",
    "                    CodigoFuncionarioGerente INTEGER\n",
    "                )''')\n"
   ]
  },
  {
   "cell_type": "code",
   "execution_count": 5,
   "id": "e1979940-cf54-4218-acb5-eb9fc571d8b0",
   "metadata": {},
   "outputs": [
    {
     "data": {
      "text/plain": [
       "<sqlite3.Cursor at 0x1e9e35111c0>"
      ]
     },
     "execution_count": 5,
     "metadata": {},
     "output_type": "execute_result"
    }
   ],
   "source": [
    "funcionarios_data = [\n",
    "    (1, 'João', 'Silva', 'Santos', '1990-05-15', '123.456.789-10', '1234567', 'Rua A, 123', '12345-678', 'Cidade A', '(00) 1234-5678', 1, 'Analista', 5000.00),\n",
    "    (2, 'Maria', 'Souza', 'Oliveira', '1995-10-20', '987.654.321-00', '7654321', 'Rua B, 456', '54321-098', 'Cidade B', '(99) 9876-5432', 2, 'Gerente', 8000.00)\n",
    "]\n",
    "cursor.executemany('''INSERT INTO Funcionarios (Codigo, PrimeiroNome, SegundoNome, UltimoNome, DataNasci, CPF, RG, Endereço, CEP, Cidade, Fone, CodigoDepartamento, Funcao, Salario)\n",
    "                      VALUES (?, ?, ?, ?, ?, ?, ?, ?, ?, ?, ?, ?, ?, ?)''', funcionarios_data)\n"
   ]
  },
  {
   "cell_type": "code",
   "execution_count": 6,
   "id": "a458ccdb-da9e-44be-bb1d-25fad87ceb74",
   "metadata": {},
   "outputs": [
    {
     "data": {
      "text/plain": [
       "<sqlite3.Cursor at 0x1e9e35111c0>"
      ]
     },
     "execution_count": 6,
     "metadata": {},
     "output_type": "execute_result"
    }
   ],
   "source": [
    "departamentos_data = [\n",
    "    (1, 'TI', 'Andar 2', 2),\n",
    "    (2, 'Recursos Humanos', 'Andar 3', 1)\n",
    "]\n",
    "cursor.executemany('''INSERT INTO Departamentos (Codigo, Nome, Localização, CodigoFuncionarioGerente)\n",
    "                      VALUES (?, ?, ?, ?)''', departamentos_data)\n"
   ]
  },
  {
   "cell_type": "code",
   "execution_count": 11,
   "id": "9d6af2b0-10f4-4c76-b707-52d613eb125f",
   "metadata": {},
   "outputs": [],
   "source": [
    "conn.commit()\n"
   ]
  },
  {
   "cell_type": "markdown",
   "id": "8f27a5a9-994c-4607-8134-40a3dc779671",
   "metadata": {},
   "source": [
    "### RESPOSTA A:"
   ]
  },
  {
   "cell_type": "markdown",
   "id": "ccaff4d0-f26c-4746-b9be-a1ae7754d10d",
   "metadata": {},
   "source": [
    "\n",
    "sql = '''\n",
    "SELECT PrimeiroNome, UltimoNome\n",
    "FROM Funcionarios\n",
    "ORDER BY UltimoNome;\n",
    "'''\n",
    "\n",
    "cursor.execute(sql)\n",
    "\n",
    "print(cursor.fetchall())"
   ]
  },
  {
   "cell_type": "markdown",
   "id": "4a124652-a4bb-4ce4-b9ce-f6b949f1d1dd",
   "metadata": {},
   "source": [
    "### RESPOSTA B:"
   ]
  },
  {
   "cell_type": "code",
   "execution_count": 13,
   "id": "7e410530-a09c-49d8-aa8b-b95d8728d37f",
   "metadata": {},
   "outputs": [
    {
     "name": "stdout",
     "output_type": "stream",
     "text": [
      "[(1, 'João', 'Silva', 'Santos', '1990-05-15', '123.456.789-10', '1234567', 'Rua A, 123', '12345-678', 'Cidade A', '(00) 1234-5678', 1, 'Analista', 5000.0), (2, 'Maria', 'Souza', 'Oliveira', '1995-10-20', '987.654.321-00', '7654321', 'Rua B, 456', '54321-098', 'Cidade B', '(99) 9876-5432', 2, 'Gerente', 8000.0)]\n"
     ]
    }
   ],
   "source": [
    "sql = '''\n",
    "SELECT *\n",
    "FROM Funcionarios\n",
    "ORDER BY Cidade;\n",
    "'''\n",
    "\n",
    "cursor.execute(sql)\n",
    "\n",
    "print(cursor.fetchall())"
   ]
  },
  {
   "cell_type": "markdown",
   "id": "1e014872-6a1d-45ec-88f3-5f838926aa08",
   "metadata": {},
   "source": [
    "### RESPOSTA C:"
   ]
  },
  {
   "cell_type": "code",
   "execution_count": 14,
   "id": "ebfac61b-add6-431a-9236-a5367d9ce6e6",
   "metadata": {},
   "outputs": [
    {
     "name": "stdout",
     "output_type": "stream",
     "text": [
      "[(1, 'João', 'Silva', 'Santos', '1990-05-15', '123.456.789-10', '1234567', 'Rua A, 123', '12345-678', 'Cidade A', '(00) 1234-5678', 1, 'Analista', 5000.0), (2, 'Maria', 'Souza', 'Oliveira', '1995-10-20', '987.654.321-00', '7654321', 'Rua B, 456', '54321-098', 'Cidade B', '(99) 9876-5432', 2, 'Gerente', 8000.0)]\n"
     ]
    }
   ],
   "source": [
    "sql = '''\n",
    "SELECT *\n",
    "FROM Funcionarios\n",
    "WHERE Salario > 1000.00\n",
    "ORDER BY PrimeiroNome, UltimoNome;\n",
    "'''\n",
    "\n",
    "cursor.execute(sql)\n",
    "\n",
    "print(cursor.fetchall())\n"
   ]
  },
  {
   "cell_type": "markdown",
   "id": "c60e36f0-7ba2-43e9-a07a-04a8db03fddf",
   "metadata": {},
   "source": [
    "### RESPOSTA D:"
   ]
  },
  {
   "cell_type": "code",
   "execution_count": 15,
   "id": "d46d4685-c088-4db6-a1d1-fe2b1cbefb1f",
   "metadata": {},
   "outputs": [
    {
     "name": "stdout",
     "output_type": "stream",
     "text": [
      "[('1995-10-20', 'Maria'), ('1990-05-15', 'João')]\n"
     ]
    }
   ],
   "source": [
    "sql = '''\n",
    "SELECT DataNasci, PrimeiroNome\n",
    "FROM Funcionarios\n",
    "ORDER BY DataNasci DESC;\n",
    "'''\n",
    "\n",
    "cursor.execute(sql)\n",
    "\n",
    "print(cursor.fetchall())\n"
   ]
  },
  {
   "cell_type": "markdown",
   "id": "598c1a07-d24e-4923-ac22-c587bf856366",
   "metadata": {},
   "source": [
    "### RESPOSTA E:"
   ]
  },
  {
   "cell_type": "code",
   "execution_count": 16,
   "id": "f8da30ac-a221-4f64-a220-d35fa3dcfc77",
   "metadata": {},
   "outputs": [
    {
     "name": "stdout",
     "output_type": "stream",
     "text": [
      "13000.0\n"
     ]
    }
   ],
   "source": [
    "sql = '''\n",
    "SELECT SUM(Salario)\n",
    "FROM Funcionarios;\n",
    "'''\n",
    "\n",
    "cursor.execute(sql)\n",
    "\n",
    "print(cursor.fetchone()[0]) "
   ]
  },
  {
   "cell_type": "markdown",
   "id": "be271d20-0057-44b4-ab53-aa7f5fd7c143",
   "metadata": {},
   "source": [
    "### RESPOSTA F:"
   ]
  },
  {
   "cell_type": "code",
   "execution_count": 17,
   "id": "14a6d7eb-2d08-411c-aac5-83600773e2be",
   "metadata": {},
   "outputs": [
    {
     "name": "stdout",
     "output_type": "stream",
     "text": [
      "[('João', 'Santos', 'TI', 'Analista'), ('Maria', 'Oliveira', 'Recursos Humanos', 'Gerente')]\n"
     ]
    }
   ],
   "source": [
    "sql = '''\n",
    "SELECT f.PrimeiroNome, f.UltimoNome, d.Nome, f.Funcao\n",
    "FROM Funcionarios AS f\n",
    "INNER JOIN Departamentos AS d ON f.CodigoDepartamento = d.Codigo;\n",
    "'''\n",
    "\n",
    "cursor.execute(sql)\n",
    "\n",
    "print(cursor.fetchall())\n"
   ]
  },
  {
   "cell_type": "markdown",
   "id": "ddb88d02-7447-4243-9d5d-0231bc548c4c",
   "metadata": {},
   "source": [
    "### REPOSTA G:"
   ]
  },
  {
   "cell_type": "code",
   "execution_count": 18,
   "id": "9dd286e8-0240-4f82-99f9-cda52c32f32b",
   "metadata": {},
   "outputs": [
    {
     "name": "stdout",
     "output_type": "stream",
     "text": [
      "2\n"
     ]
    }
   ],
   "source": [
    "sql = '''\n",
    "SELECT COUNT(*)\n",
    "FROM Funcionarios;\n",
    "'''\n",
    "\n",
    "cursor.execute(sql)\n",
    "\n",
    "print(cursor.fetchone()[0])\n"
   ]
  },
  {
   "cell_type": "markdown",
   "id": "65eb9e53-3c42-4fdf-946b-4f0306a07122",
   "metadata": {},
   "source": [
    "### RESPOSTA H"
   ]
  },
  {
   "cell_type": "code",
   "execution_count": 19,
   "id": "2e36644c-c341-4649-bc19-6b696f3af429",
   "metadata": {},
   "outputs": [
    {
     "name": "stdout",
     "output_type": "stream",
     "text": [
      "[('Recursos Humanos', 'Maria', 'Oliveira'), ('TI', 'João', 'Santos')]\n"
     ]
    }
   ],
   "source": [
    "sql = '''\n",
    "SELECT d.Nome AS NomeDepartamento, f.PrimeiroNome, f.UltimoNome\n",
    "FROM Funcionarios AS f\n",
    "INNER JOIN Departamentos AS d ON f.CodigoDepartamento = d.Codigo\n",
    "ORDER BY d.Nome, f.PrimeiroNome, f.UltimoNome;\n",
    "'''\n",
    "\n",
    "cursor.execute(sql)\n",
    "\n",
    "print(cursor.fetchall())\n"
   ]
  },
  {
   "cell_type": "code",
   "execution_count": null,
   "id": "a547539c-1611-4ce9-8601-be116a06668a",
   "metadata": {},
   "outputs": [],
   "source": []
  }
 ],
 "metadata": {
  "kernelspec": {
   "display_name": "Python 3 (ipykernel)",
   "language": "python",
   "name": "python3"
  },
  "language_info": {
   "codemirror_mode": {
    "name": "ipython",
    "version": 3
   },
   "file_extension": ".py",
   "mimetype": "text/x-python",
   "name": "python",
   "nbconvert_exporter": "python",
   "pygments_lexer": "ipython3",
   "version": "3.11.7"
  }
 },
 "nbformat": 4,
 "nbformat_minor": 5
}
